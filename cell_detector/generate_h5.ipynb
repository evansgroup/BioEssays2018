{
 "cells": [
  {
   "cell_type": "code",
   "execution_count": null,
   "metadata": {},
   "outputs": [],
   "source": [
    "import h5py\n",
    "import glob\n",
    "import numpy as np\n",
    "import tifffile as tiff\n",
    "import pandas as pd\n",
    "import os\n",
    "import matplotlib.pyplot as plt\n",
    "from random import shuffle"
   ]
  },
  {
   "cell_type": "code",
   "execution_count": null,
   "metadata": {},
   "outputs": [],
   "source": [
    "# Utils.py\n",
    "def load_PNP_file(path):\n",
    "    if os.path.exists(path) and (os.stat(path).st_size != 0):\n",
    "        pnps = np.genfromtxt(path, delimiter=',')\n",
    "        if pnps.ndim == 1:\n",
    "            if pnps.size == 4:\n",
    "                tmp = pnps.copy()\n",
    "                pnps = np.empty((1, 4))\n",
    "                pnps[0, :] = tmp\n",
    "            else:\n",
    "                pnps = np.empty((0, 4))\n",
    "    else:\n",
    "        pnps = np.empty([0, 4])\n",
    "    return pnps"
   ]
  },
  {
   "cell_type": "code",
   "execution_count": null,
   "metadata": {},
   "outputs": [],
   "source": [
    "imgs = np.zeros((7049, 618, 824, 3), dtype=np.int16)\n",
    "pnps = []\n",
    "paths = []"
   ]
  },
  {
   "cell_type": "code",
   "execution_count": null,
   "metadata": {},
   "outputs": [],
   "source": [
    "im_nms = glob.glob(\"deep_learning/data/cell_shooting_new/\" + '*_PNPs.csv')\n",
    "shuffle(im_nms)\n",
    "n_cells = 0\n",
    "for i, nm in enumerate(im_nms):\n",
    "    nm_i = nm.replace(\"_PNPs.csv\", \"_image.tif\",)\n",
    "    if os.path.exists(nm) and os.path.exists(nm_i):\n",
    "        img = tiff.imread(nm_i)\n",
    "        pnp = load_PNP_file(nm)\n",
    "        nm_img = nm_i.replace(\"/mnt/data/PNP/deep_learning/data/cell_shooting_new/\", \"\")\n",
    "        imgs[n_cells] = img\n",
    "        pnps.append(pnp)\n",
    "        paths.append(nm_img)\n",
    "        if n_cells%500 == 0:\n",
    "            print(n_cells)\n",
    "        n_cells += 1\n",
    "            \n",
    "print(n_cells)"
   ]
  },
  {
   "cell_type": "code",
   "execution_count": null,
   "metadata": {},
   "outputs": [],
   "source": [
    "nm_i"
   ]
  },
  {
   "cell_type": "code",
   "execution_count": null,
   "metadata": {},
   "outputs": [],
   "source": [
    "if True:\n",
    "    import h5py\n",
    "    f = h5py.File('deep_learning/data/cell_shooting_new/db_for_training_cells_shuffle.h5', 'w')\n",
    "    dset = f.create_dataset(\"imgs\", data=imgs)\n",
    "    f.close()"
   ]
  },
  {
   "cell_type": "code",
   "execution_count": null,
   "metadata": {},
   "outputs": [],
   "source": [
    "if True:\n",
    "    ll = []\n",
    "    for i, nm, p in zip(range(0, len(pnps)), paths, pnps):\n",
    "        ll.append([i, nm, p])\n",
    "    pnpsdf = pd.DataFrame.from_records(ll, columns=['idx', 'cell', 'pnps'])\n",
    "    pnpsdf.to_hdf('deep_learning/data/cell_shooting_new/db_for_training_cells_shuffle.h5', 'a')"
   ]
  }
 ],
 "metadata": {
  "kernelspec": {
   "display_name": "Python 2",
   "language": "python",
   "name": "python2"
  },
  "language_info": {
   "codemirror_mode": {
    "name": "ipython",
    "version": 2
   },
   "file_extension": ".py",
   "mimetype": "text/x-python",
   "name": "python",
   "nbconvert_exporter": "python",
   "pygments_lexer": "ipython2",
   "version": "2.7.15"
  }
 },
 "nbformat": 4,
 "nbformat_minor": 2
}
