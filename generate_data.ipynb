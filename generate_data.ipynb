{
 "cells": [
  {
   "cell_type": "code",
   "execution_count": 1,
   "metadata": {},
   "outputs": [],
   "source": [
    "import numpy as np\n",
    "import matplotlib.pyplot as plt\n",
    "%matplotlib inline\n",
    "import os\n",
    "import pandas as pd\n",
    "from skimage.io import imread, imsave"
   ]
  },
  {
   "cell_type": "code",
   "execution_count": 2,
   "metadata": {},
   "outputs": [],
   "source": [
    "\n",
    "if not os.path.exists('data/acquisitions/'):\n",
    "    os.makedirs('data/acquisitions/')\n",
    "\n",
    "exps = [\n",
    "    ['2018-03-01', 's1', 'exp1'], \n",
    "    ['2018-04-01', 's1', 'exp1'],\n",
    "    ['2018-04-02', 's2', 'exp1'],\n",
    "    ['2018-04-02', 's2', 'exp2'],    \n",
    "]\n",
    "\n",
    "def generate_phantom_image(subject=\"s1\"):\n",
    "    x,y = np.meshgrid(range(0,1024), range(0,1024))\n",
    "    canvas = np.zeros((1024,1024))\n",
    "    centers = []\n",
    "    for i in range(0,10):\n",
    "\n",
    "        r = 25\n",
    "        ii = 100\n",
    "        if 's1' in subject:\n",
    "            r = 45\n",
    "            ii = 200 \n",
    "        while len(centers) < 30:\n",
    "            u = np.random.randint(100, 924, 2)            \n",
    "            add_point = True\n",
    "            for j in range(0, len(centers)):\n",
    "                if np.sqrt( (u[0]-centers[j][0])**2 + (u[1]-centers[j][1])**2 ) < 1.5*r:\n",
    "                    add_point = False\n",
    "                    break\n",
    "            if add_point:\n",
    "                a = r + 5*(np.random.normal(size=2)) # radius between 25 and 50 pixels                \n",
    "                itc = ii + 20*np.random.normal()\n",
    "                pz = (x-u[0])**2/(a[0]**2) + (y-u[1])**2/(a[0]**2) <= 1\n",
    "                canvas += pz*itc\n",
    "                centers.append(u)\n",
    "    canvas[canvas >= 255] = 255\n",
    "    return canvas.astype(np.uint8)\n",
    "    \n",
    "\n",
    "for date, subject, experiment in exps:\n",
    "    o_dir = os.path.join('data/acquisitions/', date, subject, experiment)\n",
    "    if not os.path.exists(o_dir):\n",
    "        os.makedirs(o_dir)\n",
    "    for fov in range(0,3):\n",
    "        canvas = generate_phantom_image(subject)\n",
    "        imsave(os.path.join(o_dir, 'fov_%02i.png' % fov), canvas)\n"
   ]
  }
 ],
 "metadata": {
  "kernelspec": {
   "display_name": "Python 3",
   "language": "python",
   "name": "python3"
  },
  "language_info": {
   "codemirror_mode": {
    "name": "ipython",
    "version": 3
   },
   "file_extension": ".py",
   "mimetype": "text/x-python",
   "name": "python",
   "nbconvert_exporter": "python",
   "pygments_lexer": "ipython3",
   "version": "3.6.5"
  }
 },
 "nbformat": 4,
 "nbformat_minor": 2
}
